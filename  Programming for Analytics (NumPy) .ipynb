{
 "cells": [
  {
   "cell_type": "markdown",
   "metadata": {},
   "source": [
    "# Programming for Analytics (NumPy) "
   ]
  },
  {
   "cell_type": "markdown",
   "metadata": {},
   "source": [
    "<u>Question 1</u>        \n",
    "Read the provided data file into the Jupyter Notebook using suitable file opening functions, and perform the following tasks:\n",
    "\n",
    "i)  \tPrint a list (python data structure) of all the column header names of the dataset (the column names are in the first line of the data file).\n",
    "\n",
    "ii) \tPrint the first 5 column header names, followed by the first 5 rows of the data.\n",
    "Your output should clearly display the column names and the required rows of data as per the example below. \n",
    "\n",
    "Hint: Use Python's open() and readline() to open the provided file, and to read the file's column headers and rows of the data line by line."
   ]
  },
  {
   "cell_type": "code",
   "execution_count": 1,
   "metadata": {},
   "outputs": [
    {
     "name": "stdout",
     "output_type": "stream",
     "text": [
      "month,town,flat_type,block,street_name,storey_range,floor_area_sqm,flat_model,lease_commence_date,remaining_lease,resale_price\n",
      "\n"
     ]
    }
   ],
   "source": [
    "# Answer to Q1 (10 marks)\n",
    "#(i)\n",
    "\n",
    "#Opening the file\n",
    "f = open(\"hdb_resale_transactions.csv\", encoding = \"utf-8-sig\") \n",
    "\n",
    "# Reading the file\n",
    "row = [] # Initialise an empty list \n",
    "\n",
    "while True: \n",
    "    data = f.readline() # While loop is used as f.readline reads a different line from a file if called multiple times\n",
    "    row.append(data) # Each list of strings is appended into the empty list \n",
    "    if data == \"\": # Loop breaks if the string is empty, signifying the end of the dataset \n",
    "        break         \n",
    "        \n",
    "# Printing a list of column header names of the dataset \n",
    "print(row[0]) # Index 0 is found on the first row which contains the column header names \n"
   ]
  },
  {
   "cell_type": "code",
   "execution_count": 2,
   "metadata": {},
   "outputs": [
    {
     "name": "stdout",
     "output_type": "stream",
     "text": [
      "month      town          flat_type block  street_name\n",
      "2017-01    ANG MO KIO    2 ROOM    406    ANG MO KIO AVE 10\n",
      "2017-01    ANG MO KIO    3 ROOM    108    ANG MO KIO AVE 4\n",
      "2017-01    ANG MO KIO    3 ROOM    602    ANG MO KIO AVE 5\n",
      "2017-01    ANG MO KIO    3 ROOM    465    ANG MO KIO AVE 10\n",
      "2017-01    ANG MO KIO    3 ROOM    601    ANG MO KIO AVE 5\n"
     ]
    }
   ],
   "source": [
    "#(ii)\n",
    "\n",
    "# Print first 5 column header names\n",
    "column_name = row[0] # Column name is retrieved by indexing the appended list \n",
    "column_name_split = column_name.split(\",\") # Single string in column name is split into a list with separate elements using , as the dividing delimiter \n",
    "modified_column_name = f\"{column_name_split[0]} {column_name_split[1]:>9} {column_name_split[2]:>18} {column_name_split[3]} {column_name_split[4]:>12}\" # String is concatenated and padded to provide appropriate spacing\n",
    "print(modified_column_name)\n",
    "\n",
    "# Splitting the first 5 row into list\n",
    "for i in range (1, 6):\n",
    "    row_split = row[i].split(\",\") # Single string in row is split into a list with separate elements using , as the dividing delimiter \n",
    "    print(f'{row_split[0]:<10} {row_split[1]:13} {row_split[2]:<9} {row_split[3]:<6} {row_split[4]}') # String is concatenated and each is padded to provide appropriate spacing "
   ]
  },
  {
   "cell_type": "markdown",
   "metadata": {},
   "source": [
    "<u>Question 2</u>     \n",
    "Using relevant numpy functions, load the data file into an array, excluding the first row of column headers.  Display the contents and properties of the array.  \n",
    "\n",
    "Hint: \tUse numpy’s genfromtxt() function to load data from a text or csv file. \n",
    "Read the documentation and consider carefully what parameters to use when calling genfromtxt().\n"
   ]
  },
  {
   "cell_type": "code",
   "execution_count": 3,
   "metadata": {
    "scrolled": true
   },
   "outputs": [
    {
     "name": "stdout",
     "output_type": "stream",
     "text": [
      "[['2017-01' 'ANG MO KIO' '2 ROOM' ... '1979' '61 years 04 months'\n",
      "  '232000']\n",
      " ['2017-01' 'ANG MO KIO' '3 ROOM' ... '1978' '60 years 07 months'\n",
      "  '250000']\n",
      " ['2017-01' 'ANG MO KIO' '3 ROOM' ... '1980' '62 years 05 months'\n",
      "  '262000']\n",
      " ...\n",
      " ['2023-08' 'YISHUN' 'EXECUTIVE' ... '1985' '61 years 01 month' '785000']\n",
      " ['2023-08' 'YISHUN' 'EXECUTIVE' ... '1987' '63 years 04 months' '780000']\n",
      " ['2023-08' 'YISHUN' 'EXECUTIVE' ... '1987' '63 years 01 month' '808000']]\n"
     ]
    }
   ],
   "source": [
    "# Answer to Q2 (10 marks)\n",
    "# First paraneter is the file path\n",
    "# The second parameter specify the parameter so when a CSV file is read, the program looks for the delimiter to separate the value\n",
    "# The third parameter indicates the number of line to skip. In this case the first line which is the header\n",
    "# The fourth parameter specifies the data type of the numpy array. In this case it is set to string\n",
    "import numpy as np\n",
    "npArray = np.genfromtxt(\"hdb_resale_transactions.csv\", delimiter = \",\", skip_header=1, dtype=\"str\")\n",
    "print(npArray) \n",
    "\n"
   ]
  },
  {
   "cell_type": "markdown",
   "metadata": {},
   "source": [
    "<u>Question 3</u>    \n",
    "Write a user-defined function that has 3 parameters: a numpy array, a column index and a flat type.  It will count the total number of resale transactions in the column index of the numpy array based on the flat type specified and return the results.\n",
    "\n",
    "Use this user-defined function to answer the following question:\n",
    "\n",
    "Print the top 3 flat types with the most resale transactions.  Include the proportion as a % out of all the transactions, to 3 decimal places, for each flat type.\n"
   ]
  },
  {
   "cell_type": "code",
   "execution_count": 4,
   "metadata": {},
   "outputs": [
    {
     "name": "stdout",
     "output_type": "stream",
     "text": [
      "HDB flat types with highest resales percentages:\n",
      "4 ROOM flats accounted for 42.014% of the resale transactions.\n",
      "5 ROOM flats accounted for 25.139% of the resale transactions.\n",
      "3 ROOM flats accounted for 23.543% of the resale transactions.\n"
     ]
    }
   ],
   "source": [
    "# Answer to Q3 (15 marks)\n",
    "# Defining the function\n",
    "def count_resale_flat(numpy_array, column_index, flat_type):\n",
    "    selected_column = numpy_array[:,column_index] # Columns are selected according to column_index in all rows\n",
    "    flat_type_transactions = selected_column[selected_column == flat_type]# Transactions of flat types are filtered with masking\n",
    "    count = len(flat_type_transactions) # Number of resale transactions for the specified flat are counted using len() function\n",
    "    return count \n",
    "\n",
    "# Sorting the top 3 flat types with the highest resale transaction \n",
    "flat_type = npArray[:,2] # Retrieve flat_type column\n",
    "flat_type_lst = np.unique(flat_type) # Find unique flat_type names and remove duplications\n",
    "total_transactions = len(npArray[:, 2]) # Total resale transaction is calculated to determine proportion\n",
    "proportions = []\n",
    "for flat_type in flat_type_lst:\n",
    "    count = count_resale_flat(npArray, 2, flat_type) # Function counting number of resale flat transaction\n",
    "    proportion = (count / total_transactions) * 100  # Count is converted into proportion\n",
    "    proportions.append(proportion) #Proportion is appended into the proportions list \n",
    "flat_type_data = list(zip(flat_type_lst, proportions)) # Flat types and proportions are combined into a list of tuples\n",
    "flat_type_data.sort(key=lambda x: x[1], reverse=True) # List of tuples are sorted by proportions in descending order\n",
    "\n",
    "# Print the top 3 flat types with the highest resales percentages\n",
    "print(f'HDB flat types with highest resales percentages:')\n",
    "for i in range(3):\n",
    "    flat_type, proportion = flat_type_data[i] # Accessing information of each flat type in a tuple and assigning them to their respective variable\n",
    "    print(f\"{flat_type} flats accounted for {proportion:.3f}% of the resale transactions.\")"
   ]
  },
  {
   "cell_type": "markdown",
   "metadata": {},
   "source": [
    "<u>Question 4</u>  \n",
    "Write a user-defined function that has 3 parameters: a numpy array, a column index and a town location. It will count the total number of resale transactions in the column index of the numpy array based on the town location specified and return the results.\n",
    "\n",
    "Use this user-defined function to answer the following question:\n",
    "\n",
    "Print the total number of resale transactions for every unique town listed in the dataset. \n"
   ]
  },
  {
   "cell_type": "code",
   "execution_count": 5,
   "metadata": {},
   "outputs": [
    {
     "name": "stdout",
     "output_type": "stream",
     "text": [
      "The number of resale transactions in ANG MO KIO: 6,666\n",
      "The number of resale transactions in BEDOK: 8,636\n",
      "The number of resale transactions in BISHAN: 3,007\n",
      "The number of resale transactions in BUKIT BATOK: 5,702\n",
      "The number of resale transactions in BUKIT MERAH: 6,164\n",
      "The number of resale transactions in BUKIT PANJANG: 6,053\n",
      "The number of resale transactions in BUKIT TIMAH: 409\n",
      "The number of resale transactions in CENTRAL AREA: 1,329\n",
      "The number of resale transactions in CHOA CHU KANG: 7,338\n",
      "The number of resale transactions in CLEMENTI: 3,654\n",
      "The number of resale transactions in GEYLANG: 3,986\n",
      "The number of resale transactions in HOUGANG: 7,910\n",
      "The number of resale transactions in JURONG EAST: 3,316\n",
      "The number of resale transactions in JURONG WEST: 10,547\n",
      "The number of resale transactions in KALLANG/WHAMPOA: 4,830\n",
      "The number of resale transactions in MARINE PARADE: 1,021\n",
      "The number of resale transactions in PASIR RIS: 4,895\n",
      "The number of resale transactions in PUNGGOL: 11,952\n",
      "The number of resale transactions in QUEENSTOWN: 4,509\n",
      "The number of resale transactions in SEMBAWANG: 4,172\n",
      "The number of resale transactions in SENGKANG: 13,497\n",
      "The number of resale transactions in SERANGOON: 2,968\n",
      "The number of resale transactions in TAMPINES: 10,735\n",
      "The number of resale transactions in TOA PAYOH: 5,112\n",
      "The number of resale transactions in WOODLANDS: 11,333\n",
      "The number of resale transactions in YISHUN: 11,054\n"
     ]
    }
   ],
   "source": [
    "# Answer to Q4 (15 marks)\n",
    "\n",
    "# Defining the function \n",
    "def count_resale_town(numpy_array, column_index, town):\n",
    "    selected_column = numpy_array[:,column_index] # Columns are selected according to column_index in all roles\n",
    "    town_transactions = selected_column[selected_column == town] # Towns are filtered according to masking \n",
    "    count = len(town_transactions) # Resale transactions for the specified towns are counted using len() function\n",
    "    return count # Count is returned \n",
    "\n",
    "# Using the function to print the total number of resale transactions for every unique town listed in the dataset\n",
    "towns = npArray[:,1] # Retrieve town column\n",
    "town_lst = np.unique(towns) # Filter unique town names and remove duplications\n",
    "for town in town_lst: # For loop is utilised to count the resale transaction of each unique town\n",
    "    town_transactions = count_resale_town(npArray, 1, town) # Town_transactions is a global variable which has the same name as local variable in function \n",
    "    print(f'The number of resale transactions in {town}: {town_transactions:,}') #;, format is used in town_transaction to format the integers with comma\n",
    "\n"
   ]
  },
  {
   "cell_type": "markdown",
   "metadata": {},
   "source": [
    "<u>Question 5</u>     \n",
    "Write a program to prompt a user to select one of the menu items to find out more about the HDB resale transactions dataset. The program can only accept valid inputs from the menu, and will repeatedly prompt the user to enter an input as long the user input is invalid. The program exits only when the user inputs the exit option.\n",
    "\n",
    "The program should be able to perform the following functions:\n",
    "\n",
    "a)\tDisplay the menu and accept user inputs.      \n",
    "b)\tDisplay the median resale price in all towns.       \n",
    "c)\tDisplay the maximum and minimum resale prices of all flat types.       \n",
    "d)\tDisplay all transactions close to a stated resale price (+/- 5%).      \n",
    "e)\tDisplay the correlation between two selected attributes.      \n",
    "\n",
    "You are strongly encouraged to write a user-defined function to create each of the aforementioned functions of the program.\n",
    "\n",
    "Your program must ensure that user inputs are always valid.\n"
   ]
  },
  {
   "cell_type": "code",
   "execution_count": 6,
   "metadata": {},
   "outputs": [],
   "source": [
    "# Answer to Q5(a)\n",
    "\n",
    "#Define function\n",
    "def display_menu():\n",
    "    \"\"\"\n",
    "    Function prints display menu and accept user inputs. It doesn't take any parameters.\n",
    "    \n",
    "    \"\"\"\n",
    "    print(\"*** Main Menu ***\\n\")\n",
    "    print(\"1. Display the median resale price in all towns\")\n",
    "    print(\"2. Display the maximum and minimum resale price in all flat types\")\n",
    "    print(\"3. Display all the transactions close to a stated resale price\")\n",
    "    print(\"4. Display the correlation between two selected attributes\")\n",
    "    print(\"0. Exit\")\n",
    "    while True:    \n",
    "        try: \n",
    "            choice = int(input(\"\\nEnter your option: \"))\n",
    "            print()\n",
    "            if 0 <= choice <= 4: \n",
    "                return choice\n",
    "            else:\n",
    "                print(\"Please enter only numeric values from 0 to 4.\")\n",
    "        except:\n",
    "            print(\"Invalid input. Please enter a valid number.\")"
   ]
  },
  {
   "cell_type": "code",
   "execution_count": 7,
   "metadata": {},
   "outputs": [],
   "source": [
    "# Answer to Q5(b)\n",
    "\n",
    "# Define function\n",
    "def median_resale(numpy_array):\n",
    "    \"\"\"\n",
    "    Function is used to calculate the median resale prices and displays them\n",
    "    \n",
    "    Parameters: numpy_array (numpy)\n",
    "        \n",
    "    \"\"\"\n",
    "    towns = numpy_array[:, 1] # retrieve data from town column \n",
    "    unique_towns = np.unique(towns) # find unique town names and remove duplications\n",
    "    resale_price = numpy_array[:, 10] # retrieve data from resale_price column \n",
    "    resale_price_float = resale_price.astype(float) # convert string array to float using astype() method from NumPy\n",
    "\n",
    "    # For loop used to calculate median resale price of each unique town\n",
    "    for town in unique_towns: \n",
    "        town_resale_price = resale_price_float[numpy_array[:, 1] == town] # Assign resale to their respective town with masking\n",
    "        median_resale_price = np.median(town_resale_price) # Calculates the median resale price\n",
    "        print(f\"Median resale price in {town}: ${median_resale_price:,.0f}\")\n",
    " "
   ]
  },
  {
   "cell_type": "code",
   "execution_count": 8,
   "metadata": {},
   "outputs": [],
   "source": [
    "# Answer to Q5(c)\n",
    "def max_and_min_resale(numpy_array):\n",
    "    \"\"\"\n",
    "    Function is used to calculate the maximum and minimum resale prices and displays them\n",
    "    \n",
    "    Parameters: numpy_array (numpy)\n",
    "        \n",
    "    \"\"\"\n",
    "    flat_types = numpy_array[:, 2] # Retrieve data from flat_type column \n",
    "    unique_flat_types = np.unique(flat_types) #Find unique town names and remove duplications\n",
    "    resale_price = numpy_array[:,10] # Retrieve data from resale_price column \n",
    "    resale_price_float = resale_price.astype(float) #convert string array to float using a method in Numpy \n",
    "\n",
    "    # For loop used to find maximum and minimum resale price of each flat type\n",
    "    for flat_type in unique_flat_types: \n",
    "        town_resale_price = resale_price_float[numpy_array[:, 2] == flat_type] # Assign resale value to their respective town with masking\n",
    "        max_resale_price = np.max(town_resale_price) # Calculates the maximum resale price\n",
    "        min_resale_price = np.min(town_resale_price) # Calculates the minimum resale price\n",
    "        print(f\"Maximum resale price for {flat_type} floats: ${max_resale_price:,.0f}\\nMinimum resale price for {flat_type} floats: ${min_resale_price:,.0f}\\n\")\n",
    "     "
   ]
  },
  {
   "cell_type": "code",
   "execution_count": 9,
   "metadata": {},
   "outputs": [],
   "source": [
    "# Answer to Q5(d)\n",
    "\n",
    "#Define function \n",
    "def transaction_close_to_price(numpy_array):\n",
    "    \"\"\"\n",
    "    Function accepts users input and display resale transaction prices close to the input (+/- 5%).\n",
    "    \n",
    "    Parameters: numpy_array (numpy)\n",
    "    \n",
    "    \"\"\"\n",
    "    # Input validation\n",
    "    while True: \n",
    "        try: \n",
    "            input_resale_price = float(input(\"Enter the resale price amount: \"))\n",
    "            print()\n",
    "            break # Loop breaks only when there is a valid input so that function can proceed\n",
    "        except:\n",
    "            print(\"\\nInvalid input. Please enter a valid number.\\n\")\n",
    "    \n",
    "    # Filtering the closest resale transaction prices\n",
    "    actual_resale_price = numpy_array[:, 10].astype(float) # Convert resale price to float\n",
    "    lower_bound =  actual_resale_price - (input_resale_price * 0.05) # Defining the lower bound of the tolereance \n",
    "    upper_bound = actual_resale_price + (input_resale_price * 0.05)  # Defining the upper bound of the tolerenace \n",
    "    matching_transactions = numpy_array[(input_resale_price >= lower_bound) & (input_resale_price <= upper_bound)] # Resale transaction prices together with their respective rows are filtered if found within tolerance of the input value\n",
    "   \n",
    "    # Display of closest resale transaction prices\n",
    "    if len(matching_transactions) > 0: # To check if there are any transactions within the tolerance range\n",
    "        header = [\"Date\", \"Town\", \"Flat Type\", \"Remaining Lease\", \"Resale Price\"]\n",
    "        print(f'{header[0]:<10} {header[1]:<15} {header[2]:<10} {header[3]:<15} {header[4]:>15}')\n",
    "        for transaction in matching_transactions: \n",
    "            display = f'{transaction[0]:<10} {transaction[1]:<15} {transaction[2]:<10} {transaction[9]:<20} {float(transaction[10]):>10,.0f}' # Used padding to print results for alignment and indexing to assess relevant columns\n",
    "            print(display)\n",
    "        print()\n",
    "    else:\n",
    "        print(f'No transactions found near {input_resale_price:.0f} (+/- 5%)\\n')\n",
    "    \n"
   ]
  },
  {
   "cell_type": "code",
   "execution_count": 10,
   "metadata": {},
   "outputs": [],
   "source": [
    "#Answer to Q5(e)\n",
    "def correlation(numpy_array):\n",
    "    \"\"\"\n",
    "    Function accepts user input based on the respective list of attributes and calculates the correlation with resale price. \n",
    "    \n",
    "    Parameters: numpy_array (numpy)\n",
    "    \n",
    "    \"\"\"\n",
    "    while True: \n",
    "        try:  \n",
    "            attribute = int(input(\"List of attributes for calculation of correlaton with resale price:\\n1: floor area\\n2: remaining lease\\nChoose an attribute: \"))\n",
    "            print()\n",
    "            if attribute == 1 or attribute == 2: # Checks if attribute is either 1 or 2 and breaks the loop if the input is valid\n",
    "                break\n",
    "            else:\n",
    "                print(\"Invalid choice. Please pick between 1 and 2.\\n\")\n",
    "        except:\n",
    "            print(\"\\nInvalid input. Please enter a valid number between 1 and 2.\\n\")\n",
    "   \n",
    "    resale_price = numpy_array[:, 10].astype(float)\n",
    "    floor_area = numpy_array[:, 6].astype(float)\n",
    "    \n",
    "    #Converting string to float \n",
    "    remaining_lease = numpy_array[:, 9] \n",
    "    remaining_lease_lst = list(remaining_lease) # Convert string to list\n",
    "    remaining_lease_lst_split = list(map(lambda x: x.split(), remaining_lease_lst)) # Split the elements in the list    \n",
    "    years  = [x[0] for x in remaining_lease_lst_split] # List comprehension used to retrieve years\n",
    "    months = [x[2] if len(x) > 2 else \"0\" for x in remaining_lease_lst_split] # List comprehension used to retrieve months and assign '0' if there are no months given in the data set\n",
    "    years_float = list(map(float, years)) # Convert list of strings from for years to float \n",
    "    months_float = list(map(float, months)) # Convert list of strings for months to float \n",
    "    years_numpy = np.array(years_float) # Convert list of floats for months into numpy to prepare for calculation\n",
    "    months_numpy = np.array(months_float) # Convert list of floats for years into numpy to prepare for calculation\n",
    "    remaining_lease_years = years_numpy + months_numpy/12 # Calculate the total number of years for remaining lease\n",
    "\n",
    "    if attribute == 1:\n",
    "        coefficient_variance = np.corrcoef(floor_area, resale_price)\n",
    "        print(f'The correlation between floor area and resale price is {coefficient_variance[0][1]:.3f}.\\n') \n",
    "    elif attribute == 2:\n",
    "        coefficient_variance = np.corrcoef(remaining_lease_years, resale_price)\n",
    "        print(f'The correlation between remaining lease and resale price is {coefficient_variance[0][1]:.3f}.\\n')\n",
    "    "
   ]
  },
  {
   "cell_type": "code",
   "execution_count": null,
   "metadata": {},
   "outputs": [
    {
     "name": "stdout",
     "output_type": "stream",
     "text": [
      "*** Main Menu ***\n",
      "\n",
      "1. Display the median resale price in all towns\n",
      "2. Display the maximum and minimum resale price in all flat types\n",
      "3. Display all the transactions close to a stated resale price\n",
      "4. Display the correlation between two selected attributes\n",
      "0. Exit\n"
     ]
    }
   ],
   "source": [
    "# Answer to Q5 program\n",
    "def main():\n",
    "    \"\"\"\n",
    "    Main function which calls the other functions depending on the users input.\n",
    "    \n",
    "    Function doesn't take any parameters.\n",
    "    \n",
    "    \"\"\"\n",
    "    while True:\n",
    "        choice = display_menu() # Calls the function and assign the output to a variable\n",
    "        if choice == 1:\n",
    "            median_resale(npArray)\n",
    "            print()\n",
    "        elif choice == 2:\n",
    "            max_and_min_resale(npArray) \n",
    "            print()\n",
    "        elif choice == 3:\n",
    "            transaction_close_to_price(npArray)\n",
    "        elif choice == 4:\n",
    "            correlation(npArray)\n",
    "        else:\n",
    "            print(\"Good-bye!\") # Program exits only when the user inputs the exit option\n",
    "            break\n",
    "main()"
   ]
  },
  {
   "cell_type": "markdown",
   "metadata": {},
   "source": [
    "# End of File"
   ]
  }
 ],
 "metadata": {
  "kernelspec": {
   "display_name": "Python 3 (ipykernel)",
   "language": "python",
   "name": "python3"
  },
  "language_info": {
   "codemirror_mode": {
    "name": "ipython",
    "version": 3
   },
   "file_extension": ".py",
   "mimetype": "text/x-python",
   "name": "python",
   "nbconvert_exporter": "python",
   "pygments_lexer": "ipython3",
   "version": "3.11.7"
  }
 },
 "nbformat": 4,
 "nbformat_minor": 2
}
